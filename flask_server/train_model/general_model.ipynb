{
 "cells": [
  {
   "cell_type": "code",
   "execution_count": 2,
   "metadata": {},
   "outputs": [],
   "source": [
    "import pandas as pd\n",
    "from prophet import Prophet\n",
    "import matplotlib.pyplot as plt\n",
    "import numpy as np\n",
    "import pickle\n",
    "import json\n",
    "from prophet.serialize import model_to_json, model_from_json\n",
    "import os"
   ]
  },
  {
   "cell_type": "code",
   "execution_count": 3,
   "metadata": {},
   "outputs": [],
   "source": [
    "files = [f for f in os.listdir('data/') if f.endswith('.csv')]"
   ]
  },
  {
   "cell_type": "code",
   "execution_count": 4,
   "metadata": {},
   "outputs": [],
   "source": [
    "data = {\n",
    "  str(city).split('.')[0]: pd.read_csv('./data/' + city)\n",
    "    for n,city in enumerate(files)\n",
    "}"
   ]
  },
  {
   "cell_type": "code",
   "execution_count": 16,
   "metadata": {},
   "outputs": [
    {
     "data": {
      "text/plain": [
       "dict_keys(['Austin', 'Miami', 'San_Francisco_2', 'San_Francisco', 'WashingtonDC', 'New_York'])"
      ]
     },
     "execution_count": 16,
     "metadata": {},
     "output_type": "execute_result"
    }
   ],
   "source": [
    "data.keys()"
   ]
  },
  {
   "cell_type": "code",
   "execution_count": 17,
   "metadata": {},
   "outputs": [],
   "source": [
    "# lowercase col names\n",
    "\n",
    "for d in data.keys():\n",
    "    data[d].columns = data[d].columns.str.lower()"
   ]
  },
  {
   "cell_type": "code",
   "execution_count": 18,
   "metadata": {},
   "outputs": [
    {
     "name": "stdout",
     "output_type": "stream",
     "text": [
      "<class 'pandas.core.frame.DataFrame'>\n",
      "RangeIndex: 1778 entries, 0 to 1777\n",
      "Data columns (total 5 columns):\n",
      " #   Column   Non-Null Count  Dtype  \n",
      "---  ------   --------------  -----  \n",
      " 0   station  1778 non-null   object \n",
      " 1   name     1778 non-null   object \n",
      " 2   date     1778 non-null   object \n",
      " 3   tmax     1772 non-null   float64\n",
      " 4   tmin     1770 non-null   float64\n",
      "dtypes: float64(2), object(3)\n",
      "memory usage: 69.6+ KB\n"
     ]
    }
   ],
   "source": [
    "data['Austin'].info()"
   ]
  },
  {
   "cell_type": "code",
   "execution_count": 19,
   "metadata": {},
   "outputs": [],
   "source": [
    "df_austin = data['Austin']\n",
    "df_miami = data['Miami']\n",
    "df_newyork = data['New_York']\n",
    "df_sanfran = data['San_Francisco_2']\n",
    "df_washington = data['WashingtonDC']"
   ]
  },
  {
   "cell_type": "code",
   "execution_count": 20,
   "metadata": {},
   "outputs": [],
   "source": [
    "df_austin['tavg'] = (df_austin.tmax + df_austin.tmin) / 2\n",
    "df_miami['tavg'] = (df_miami.tmax + df_miami.tmin) / 2\n",
    "df_newyork['tavg'] = (df_newyork.tmax + df_newyork.tmin) / 2\n",
    "df_sanfran['tavg'] = (df_sanfran.tmax + df_sanfran.tmin) / 2\n",
    "df_washington['tavg'] = (df_washington.tmax + df_washington.tmin) / 2"
   ]
  },
  {
   "cell_type": "code",
   "execution_count": 21,
   "metadata": {},
   "outputs": [
    {
     "data": {
      "image/png": "[encoded data removed]",
      "text/plain": [
       "<Figure size 432x288 with 1 Axes>"
      ]
     },
     "metadata": {
      "needs_background": "light"
     },
     "output_type": "display_data"
    }
   ],
   "source": [
    "plt.plot(data['Austin'].date, data['Austin'].tavg)\n",
    "plt.show()"
   ]
  },
  {
   "cell_type": "code",
   "execution_count": 22,
   "metadata": {},
   "outputs": [
    {
     "name": "stdout",
     "output_type": "stream",
     "text": [
      "<class 'pandas.core.frame.DataFrame'>\n",
      "RangeIndex: 1778 entries, 0 to 1777\n",
      "Data columns (total 6 columns):\n",
      " #   Column   Non-Null Count  Dtype  \n",
      "---  ------   --------------  -----  \n",
      " 0   station  1778 non-null   object \n",
      " 1   name     1778 non-null   object \n",
      " 2   date     1778 non-null   object \n",
      " 3   tmax     1772 non-null   float64\n",
      " 4   tmin     1770 non-null   float64\n",
      " 5   tavg     1768 non-null   float64\n",
      "dtypes: float64(3), object(3)\n",
      "memory usage: 83.5+ KB\n"
     ]
    }
   ],
   "source": [
    "data['Austin'].info()"
   ]
  },
  {
   "cell_type": "code",
   "execution_count": 23,
   "metadata": {},
   "outputs": [],
   "source": [
    "m_austin = Prophet()\n",
    "# m_sanfan = Prophet()\n",
    "# m_miami = Prophet()\n",
    "# m_newyork = Prophet()\n",
    "# m_washington = Prophet()"
   ]
  },
  {
   "cell_type": "code",
   "execution_count": 24,
   "metadata": {},
   "outputs": [],
   "source": [
    "austin_train_data = df_austin.rename(columns={'date':'ds','tavg':'y'})\n",
    "# sanfran_train_data = df_sanfran.rename(columns={'date':'ds','tavg':'y'})\n",
    "# miami_train_data = df_miami.rename(columns={'date':'ds','tavg':'y'})\n",
    "# newyork_train_data = df_newyork.rename(columns={'date':'ds','tavg':'y'})\n",
    "# washington_train_data = df_washington.rename(columns={'date':'ds','tavg':'y'})"
   ]
  },
  {
   "cell_type": "code",
   "execution_count": 25,
   "metadata": {},
   "outputs": [
    {
     "name": "stderr",
     "output_type": "stream",
     "text": [
      "11:34:10 - cmdstanpy - INFO - Chain [1] start processing\n",
      "11:34:10 - cmdstanpy - INFO - Chain [1] done processing\n"
     ]
    }
   ],
   "source": [
    "fit_data = {\n",
    "    'Austin': m_austin.fit(austin_train_data),\n",
    "#     'San_Francisco': m_sanfan.fit(sanfran_train_data),\n",
    "#     'Miami': m_miami.fit(miami_train_data),\n",
    "#     'New_York': m_newyork.fit(newyork_train_data),\n",
    "#     'WashingtonDC': m_washington.fit(washington_train_data)\n",
    "}"
   ]
  },
  {
   "cell_type": "code",
   "execution_count": 26,
   "metadata": {},
   "outputs": [
    {
     "data": {
      "text/plain": [
       "{'Austin': <prophet.forecaster.Prophet at 0x7faf796336d0>}"
      ]
     },
     "execution_count": 26,
     "metadata": {},
     "output_type": "execute_result"
    }
   ],
   "source": [
    "fit_data"
   ]
  },
  {
   "cell_type": "code",
   "execution_count": 28,
   "metadata": {},
   "outputs": [],
   "source": [
    "with open('../models/austin.json', 'w') as fout:\n",
    "    json.dump(model_to_json(fit_data['Austin']), fout)"
   ]
  },
  {
   "cell_type": "code",
   "execution_count": 103,
   "metadata": {},
   "outputs": [],
   "source": [
    "with open('../models/miami.json', 'w') as fout:\n",
    "    json.dump(model_to_json(fit_data['Miami']), fout)"
   ]
  },
  {
   "cell_type": "code",
   "execution_count": 104,
   "metadata": {},
   "outputs": [],
   "source": [
    "with open('../models/newyork.json', 'w') as fout:\n",
    "    json.dump(model_to_json(fit_data['New_York']), fout)"
   ]
  },
  {
   "cell_type": "code",
   "execution_count": 105,
   "metadata": {},
   "outputs": [],
   "source": [
    "with open('../models/washington.json', 'w') as fout:\n",
    "    json.dump(model_to_json(fit_data['WashingtonDC']), fout)"
   ]
  },
  {
   "cell_type": "code",
   "execution_count": 15,
   "metadata": {},
   "outputs": [],
   "source": [
    "with open('../models/sanfran2.json', 'w') as fout:\n",
    "    json.dump(model_to_json(fit_data['San_Francisco']), fout)"
   ]
  },
  {
   "cell_type": "code",
   "execution_count": null,
   "metadata": {},
   "outputs": [],
   "source": []
  }
 ],
 "metadata": {
  "kernelspec": {
   "display_name": "Python 3 (ipykernel)",
   "language": "python",
   "name": "python3"
  },
  "language_info": {
   "codemirror_mode": {
    "name": "ipython",
    "version": 3
   },
   "file_extension": ".py",
   "mimetype": "text/x-python",
   "name": "python",
   "nbconvert_exporter": "python",
   "pygments_lexer": "ipython3",
   "version": "3.9.12"
  },
  "vscode": {
   "interpreter": {
    "hash": "aee8b7b246df8f9039afb4144a1f6fd8d2ca17a180786b69acc140d282b71a49"
   }
  }
 },
 "nbformat": 4,
 "nbformat_minor": 2
}
